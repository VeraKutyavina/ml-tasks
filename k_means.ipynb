{
  "nbformat": 4,
  "nbformat_minor": 0,
  "metadata": {
    "colab": {
      "provenance": [],
      "authorship_tag": "ABX9TyNiaibbnWUa+B5Jl0ZEnERZ",
      "include_colab_link": true
    },
    "kernelspec": {
      "name": "python3",
      "display_name": "Python 3"
    },
    "language_info": {
      "name": "python"
    }
  },
  "cells": [
    {
      "cell_type": "markdown",
      "metadata": {
        "id": "view-in-github",
        "colab_type": "text"
      },
      "source": [
        "<a href=\"https://colab.research.google.com/github/VeraKutyavina/ml-tasks/blob/main/k_means.ipynb\" target=\"_parent\"><img src=\"https://colab.research.google.com/assets/colab-badge.svg\" alt=\"Open In Colab\"/></a>"
      ]
    },
    {
      "cell_type": "code",
      "source": [
        "import copy\n",
        "import numpy as np\n",
        "import matplotlib.pyplot as plt\n",
        "from sklearn.datasets import make_blobs"
      ],
      "metadata": {
        "id": "wYujkAT7dLLF"
      },
      "execution_count": 131,
      "outputs": []
    },
    {
      "cell_type": "code",
      "source": [
        "def random_points(n):\n",
        "  points = []\n",
        "  points = make_blobs(n)\n",
        "  return points[0]\n",
        "  \n",
        "def dist(pntA, pntB):\n",
        "  return np.sqrt((pntA[0] - pntB[0])**2 + (pntA[1] - pntB[1])**2)\n",
        "\n",
        "def calculate_mean(points):\n",
        "  x_mean = 0\n",
        "  y_mean = 0\n",
        "  count = 0\n",
        "\n",
        "  for i in range(len(points)):\n",
        "    x_mean += points[i][0]\n",
        "    y_mean += points[i][1]\n",
        "    count += 1\n",
        "\n",
        "  x_mean /= count\n",
        "  y_mean /= count\n",
        "\n",
        "  return [x_mean, y_mean]\n",
        "\n",
        "def init_center(points, k): \n",
        "  pnt_mean = calculate_mean(points)\n",
        "  R = -1\n",
        "\n",
        "  for i in range(len(points)):\n",
        "    current_dist = dist(points[i], pnt_mean);\n",
        "    if R < current_dist:\n",
        "      R = current_dist\n",
        "  centroids = []\n",
        "  for i in range(k):\n",
        "    x_c = R*np.cos(2*np.pi*i/k) + pnt_mean[0]    \n",
        "    y_c = R*np.sin(2*np.pi*i/k) + pnt_mean[1] \n",
        "    centroids.append([x_c, y_c])\n",
        "\n",
        "  return np.array(centroids)  \n",
        "\n",
        "\n",
        "def calculate_nearest_centroid(points, centroids):\n",
        "  clusters = {} \n",
        "\n",
        "  for i in range(len(centroids)):\n",
        "    clusters[i] = []\n",
        "\n",
        "  for i in range(len(points)):\n",
        "    points_range = []\n",
        "\n",
        "    for j in range(len(centroids)):\n",
        "      points_range.append(dist(points[i], centroids[j]))\n",
        "\n",
        "    index = points_range.index(min(points_range))\n",
        "    clusters[index].append(points[i])\n",
        "\n",
        "  return clusters\n",
        "\n",
        "\n",
        "def centroids_update(centroids, clusters):\n",
        "    k = len(centroids)\n",
        "    for i in range(k):\n",
        "      if (len(clusters[i]) != 0):\n",
        "        centroids[i] = calculate_mean(clusters[i])\n",
        "    return centroids\n",
        "\n",
        "def is_equals(centroids, privious_centroids):\n",
        "  return (centroids == privious_centroids).all()    "
      ],
      "metadata": {
        "id": "La0B1cIkdNZC"
      },
      "execution_count": 132,
      "outputs": []
    },
    {
      "cell_type": "code",
      "source": [
        "def draw(clusters, centroids):\n",
        "  for i in range(len(clusters)):\n",
        "    x_coordinates = []\n",
        "    y_coordinates = []\n",
        "    for j in range(len(clusters[i])):\n",
        "      x_coordinates.append(clusters[i][j][0])\n",
        "      y_coordinates.append(clusters[i][j][1])\n",
        "    plt.scatter(x_coordinates, y_coordinates)\n",
        "  plt.draw()\n",
        "\n",
        "  x_coordinates_c = []\n",
        "  y_coordinates_c = []\n",
        "  for i in centroids:\n",
        "    x_coordinates_c.append(i[0])\n",
        "    y_coordinates_c.append(i[1])\n",
        "  plt.scatter(x_coordinates_c, y_coordinates_c, color='hotpink')  \n",
        "  plt.draw()\n",
        "  \n",
        "  plt.show()"
      ],
      "metadata": {
        "id": "lGAoKGW2LSVG"
      },
      "execution_count": 133,
      "outputs": []
    },
    {
      "cell_type": "code",
      "source": [
        "def kmeans(points, k, draw_iteration = False):\n",
        "  centroids = init_center(points, k)    \n",
        "  clusters = calculate_nearest_centroid(points, centroids)\n",
        "  privious_centroids = copy.deepcopy(centroids)\n",
        "\n",
        "  if (draw_iteration):\n",
        "    draw(clusters, centroids)\n",
        "\n",
        "  while True:\n",
        "    centroids = centroids_update(centroids, clusters)\n",
        "    clusters = calculate_nearest_centroid(points, centroids)\n",
        "\n",
        "    if (draw_iteration):\n",
        "      draw(clusters, centroids)\n",
        "    \n",
        "    if is_equals(centroids, privious_centroids):\n",
        "      return { \"centroids\": centroids, \"clusters\": clusters }\n",
        "\n",
        "    privious_centroids = copy.deepcopy(centroids)"
      ],
      "metadata": {
        "id": "fHTYn0-J-pSP"
      },
      "execution_count": 134,
      "outputs": []
    },
    {
      "cell_type": "code",
      "source": [
        "def cluster_count(inertia):\n",
        "  min_inertia_ratio = 100000\n",
        "  index = 0\n",
        "\n",
        "  for i in range(len(inertia)):\n",
        "    if i == 0 or i == len(inertia) - 1:\n",
        "      continue \n",
        "    inertia_ratio = (inertia[i] - inertia[i+1])/(inertia[i-1] - inertia[i])\n",
        "    if abs(inertia_ratio) < min_inertia_ratio:\n",
        "      min_inertia_ratio = inertia_ratio\n",
        "      index = i\n",
        "  return index + 1"
      ],
      "metadata": {
        "id": "FovHtHP2M0_0"
      },
      "execution_count": 135,
      "outputs": []
    },
    {
      "cell_type": "code",
      "source": [
        "if __name__ == '__main__':\n",
        "  n = 100\n",
        "\n",
        "  points = random_points(n)"
      ],
      "metadata": {
        "id": "VwTrZ1mneCgA"
      },
      "execution_count": 136,
      "outputs": []
    },
    {
      "cell_type": "code",
      "source": [
        "# просчитывание оптимального k\n",
        "\n",
        "inertia = []\n",
        "K = range(1,8)\n",
        "\n",
        "for i in K:\n",
        "    km = kmeans(points, i)\n",
        "    clasters = km[\"clusters\"]\n",
        "    centroids = km[\"centroids\"]\n",
        "    sum = 0\n",
        "    for kl in range(len(clasters)):\n",
        "      for c in range(len(clasters[kl])):\n",
        "        sum += dist(centroids[kl], clasters[kl][c])**2\n",
        "\n",
        "    inertia.append(sum)   \n",
        "plt.plot(K, inertia) \n",
        "k = cluster_count(inertia)"
      ],
      "metadata": {
        "colab": {
          "base_uri": "https://localhost:8080/",
          "height": 267
        },
        "id": "R30CEAo4-iVf",
        "outputId": "4c64f670-0d46-47a8-8aef-37793671ae1b"
      },
      "execution_count": 137,
      "outputs": [
        {
          "output_type": "display_data",
          "data": {
            "text/plain": [
              "<Figure size 432x288 with 1 Axes>"
            ],
            "image/png": "[encoded data removed]"
          },
          "metadata": {
            "needs_background": "light"
          }
        }
      ]
    },
    {
      "cell_type": "code",
      "source": [
        "# для заданного k\n",
        "kmeans_item = kmeans(points, k, True)\n"
      ],
      "metadata": {
        "colab": {
          "base_uri": "https://localhost:8080/",
          "height": 761
        },
        "id": "Xp0jeCAR_HqS",
        "outputId": "22ec0c88-33d5-4f20-dc64-7007148fada9"
      },
      "execution_count": 138,
      "outputs": [
        {
          "output_type": "display_data",
          "data": {
            "text/plain": [
              "<Figure size 432x288 with 1 Axes>"
            ],
            "image/png": "[encoded data removed]"
          },
          "metadata": {
            "needs_background": "light"
          }
        },
        {
          "output_type": "display_data",
          "data": {
            "text/plain": [
              "<Figure size 432x288 with 1 Axes>"
            ],
            "image/png": "[encoded data removed]"
          },
          "metadata": {
            "needs_background": "light"
          }
        },
        {
          "output_type": "display_data",
          "data": {
            "text/plain": [
              "<Figure size 432x288 with 1 Axes>"
            ],
            "image/png": "[encoded data removed]"
          },
          "metadata": {
            "needs_background": "light"
          }
        }
      ]
    }
  ]
}