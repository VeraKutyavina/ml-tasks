{
  "nbformat": 4,
  "nbformat_minor": 0,
  "metadata": {
    "colab": {
      "provenance": [],
      "authorship_tag": "ABX9TyMu4eegbowC2/OLiucr0EDR",
      "include_colab_link": true
    },
    "kernelspec": {
      "name": "python3",
      "display_name": "Python 3"
    },
    "language_info": {
      "name": "python"
    }
  },
  "cells": [
    {
      "cell_type": "markdown",
      "metadata": {
        "id": "view-in-github",
        "colab_type": "text"
      },
      "source": [
        "<a href=\"https://colab.research.google.com/github/VeraKutyavina/ml-tasks/blob/main/k_means.ipynb\" target=\"_parent\"><img src=\"https://colab.research.google.com/assets/colab-badge.svg\" alt=\"Open In Colab\"/></a>"
      ]
    },
    {
      "cell_type": "code",
      "source": [
        "import copy\n",
        "import numpy as np\n",
        "import matplotlib.pyplot as plt\n",
        "from sklearn.datasets import make_blobs"
      ],
      "metadata": {
        "id": "wYujkAT7dLLF"
      },
      "execution_count": 12,
      "outputs": []
    },
    {
      "cell_type": "code",
      "source": [
        "def random_points(n):\n",
        "  points = []\n",
        "  points = make_blobs(n)\n",
        "  return points[0]\n",
        "  \n",
        "def dist(pntA, pntB):\n",
        "  return np.sqrt((pntA[0] - pntB[0])**2 + (pntA[1] - pntB[1])**2)\n",
        "\n",
        "def calculate_mean(points):\n",
        "  x_mean = 0\n",
        "  y_mean = 0\n",
        "  count = 0\n",
        "\n",
        "  for i in range(len(points)):\n",
        "    x_mean += points[i][0]\n",
        "    y_mean += points[i][1]\n",
        "    count += 1\n",
        "\n",
        "  if (count == 0):\n",
        "    return [0, 0]  \n",
        "\n",
        "  x_mean /= count\n",
        "  y_mean /= count\n",
        "\n",
        "  return [x_mean, y_mean]\n",
        "\n",
        "def init_center(points, k): \n",
        "  pnt_mean = calculate_mean(points)\n",
        "  R = -1\n",
        "\n",
        "  for i in range(len(points)):\n",
        "    current_dist = dist(points[i], pnt_mean);\n",
        "    if R < current_dist:\n",
        "      R = current_dist\n",
        "  centroids = []\n",
        "  for i in range(k):\n",
        "    x_c = R*np.cos(2*np.pi*i/k) + pnt_mean[0]    \n",
        "    y_c = R*np.sin(2*np.pi*i/k) + pnt_mean[1] \n",
        "    centroids.append([x_c, y_c])\n",
        "\n",
        "  return np.array(centroids)  \n",
        "\n",
        "\n",
        "def calculate_nearest_centroid(points, centroids):\n",
        "  clusters = {} \n",
        "\n",
        "  for i in range(len(centroids)):\n",
        "    clusters[i] = []\n",
        "\n",
        "  for i in range(len(points)):\n",
        "    points_range = []\n",
        "\n",
        "    for j in range(len(centroids)):\n",
        "      points_range.append(dist(points[i], centroids[j]))\n",
        "\n",
        "    index = points_range.index(min(points_range))\n",
        "    clusters[index].append(points[i])\n",
        "\n",
        "  return clusters\n",
        "\n",
        "\n",
        "def centroids_update(centroids, clusters):\n",
        "    k = len(centroids)\n",
        "    for i in range(k):\n",
        "      centroids[i] = calculate_mean(clusters[i])\n",
        "    return centroids\n",
        "\n",
        "\n",
        "def draw(clusters):\n",
        "  for i in range(len(clusters)):\n",
        "    x_coordinates = []\n",
        "    y_coordinates = []\n",
        "    for j in range(len(clusters[i])):\n",
        "      x_coordinates.append(clusters[i][j][0])\n",
        "      y_coordinates.append(clusters[i][j][1])\n",
        "    plt.scatter(x_coordinates, y_coordinates)\n",
        "  plt.draw()\n",
        "\n",
        "def is_equals(centroids, privious_centroids):\n",
        "  return (centroids == privious_centroids).all()    "
      ],
      "metadata": {
        "id": "La0B1cIkdNZC"
      },
      "execution_count": 62,
      "outputs": []
    },
    {
      "cell_type": "code",
      "source": [
        "def kmeans(points, k):\n",
        "  centroids = init_center(points, k)    \n",
        "  clusters = calculate_nearest_centroid(points, centroids)\n",
        "  privious_centroids = copy.deepcopy(centroids)\n",
        "\n",
        "  while True:\n",
        "    centroids = centroids_update(centroids, clusters)\n",
        "    clusters = calculate_nearest_centroid(points, centroids)\n",
        "    \n",
        "    if is_equals(centroids, privious_centroids):\n",
        "      return { \"centroids\": centroids, \"clusters\": clusters };\n",
        "\n",
        "    privious_centroids = copy.deepcopy(centroids)"
      ],
      "metadata": {
        "id": "fHTYn0-J-pSP"
      },
      "execution_count": 63,
      "outputs": []
    },
    {
      "cell_type": "code",
      "source": [
        "# для заданного k\n",
        "if __name__ == '__main__':\n",
        "  n = 100;\n",
        "  k = 3\n",
        "\n",
        "  points = random_points(n)\n",
        "\n",
        "  kmeans_item = kmeans(points, k)\n",
        "  draw(kmeans_item[\"clusters\"])\n"
      ],
      "metadata": {
        "colab": {
          "base_uri": "https://localhost:8080/",
          "height": 265
        },
        "id": "VwTrZ1mneCgA",
        "outputId": "3ffc76a4-4415-474a-df30-513f49d26606"
      },
      "execution_count": 67,
      "outputs": [
        {
          "output_type": "display_data",
          "data": {
            "text/plain": [
              "<Figure size 432x288 with 1 Axes>"
            ],
            "image/png": "[encoded data removed]"
          },
          "metadata": {
            "needs_background": "light"
          }
        }
      ]
    },
    {
      "cell_type": "code",
      "source": [
        "# просчитывание оптимального k\n",
        "\n",
        "inertia = []\n",
        "K = range(1,8)\n",
        "\n",
        "for i in K:\n",
        "    km = kmeans(points, i)\n",
        "    clasters = km[\"clusters\"]\n",
        "    centroids = km[\"centroids\"]\n",
        "    sum = 0\n",
        "    for kl in range(len(clasters)):\n",
        "      for c in range(len(clasters[kl])):\n",
        "        sum += dist(centroids[kl], clasters[kl][c])**2\n",
        "\n",
        "    inertia.append(sum)   \n",
        "print(K, inertia)\n",
        "plt.plot(K, inertia) "
      ],
      "metadata": {
        "colab": {
          "base_uri": "https://localhost:8080/",
          "height": 301
        },
        "id": "R30CEAo4-iVf",
        "outputId": "9e7875b4-b21f-4dc7-c8f1-82eab8de4a3e"
      },
      "execution_count": 68,
      "outputs": [
        {
          "output_type": "stream",
          "name": "stdout",
          "text": [
            "range(1, 8) [7164.616850676954, 1156.67697000498, 186.13912466565412, 186.13912466565412, 159.43551759636392, 134.52207347855696, 168.13886564126076]\n"
          ]
        },
        {
          "output_type": "execute_result",
          "data": {
            "text/plain": [
              "[<matplotlib.lines.Line2D at 0x7f28779d5410>]"
            ]
          },
          "metadata": {},
          "execution_count": 68
        },
        {
          "output_type": "display_data",
          "data": {
            "text/plain": [
              "<Figure size 432x288 with 1 Axes>"
            ],
            "image/png": "[encoded data removed]"
          },
          "metadata": {
            "needs_background": "light"
          }
        }
      ]
    }
  ]
}