{
  "nbformat": 4,
  "nbformat_minor": 0,
  "metadata": {
    "colab": {
      "provenance": [],
      "authorship_tag": "ABX9TyPB0sKPxfxRQyV/spGaiz/R",
      "include_colab_link": true
    },
    "kernelspec": {
      "name": "python3",
      "display_name": "Python 3"
    },
    "language_info": {
      "name": "python"
    }
  },
  "cells": [
    {
      "cell_type": "markdown",
      "metadata": {
        "id": "view-in-github",
        "colab_type": "text"
      },
      "source": [
        "<a href=\"https://colab.research.google.com/github/VeraKutyavina/ml-tasks/blob/main/k_means.ipynb\" target=\"_parent\"><img src=\"https://colab.research.google.com/assets/colab-badge.svg\" alt=\"Open In Colab\"/></a>"
      ]
    },
    {
      "cell_type": "code",
      "source": [
        "import copy\n",
        "import numpy as np\n",
        "import matplotlib.pyplot as plt\n",
        "from sklearn.datasets import make_blobs"
      ],
      "metadata": {
        "id": "wYujkAT7dLLF"
      },
      "execution_count": 103,
      "outputs": []
    },
    {
      "cell_type": "code",
      "source": [
        "def random_points(n):\n",
        "  points = []\n",
        "  points = make_blobs(n)\n",
        "  return points[0]\n",
        "  \n",
        "def dist(pntA, pntB):\n",
        "  return np.sqrt((pntA[0] - pntB[0])**2 + (pntA[1] - pntB[1])**2)\n",
        "\n",
        "def calculate_mean(points):\n",
        "  x_mean = 0\n",
        "  y_mean = 0\n",
        "  count = 0\n",
        "\n",
        "  for i in range(len(points)):\n",
        "    x_mean += points[i][0]\n",
        "    y_mean += points[i][1]\n",
        "    count += 1\n",
        "\n",
        "  x_mean /= count\n",
        "  y_mean /= count\n",
        "\n",
        "  return [x_mean, y_mean]\n",
        "\n",
        "def init_center(points, k): \n",
        "  pnt_mean = calculate_mean(points)\n",
        "  R = -1\n",
        "\n",
        "  for i in range(len(points)):\n",
        "    current_dist = dist(points[i], pnt_mean);\n",
        "    if R < current_dist:\n",
        "      R = current_dist\n",
        "  centroids = []\n",
        "  for i in range(k):\n",
        "    x_c = R*np.cos(2*np.pi*i/k) + pnt_mean[0]    \n",
        "    y_c = R*np.sin(2*np.pi*i/k) + pnt_mean[1] \n",
        "    centroids.append([x_c, y_c])\n",
        "\n",
        "  return np.array(centroids)  \n",
        "\n",
        "\n",
        "def calculate_nearest_centroid(points, centroids):\n",
        "  clusters = {} \n",
        "\n",
        "  for i in range(len(centroids)):\n",
        "    clusters[i] = []\n",
        "\n",
        "  for i in range(len(points)):\n",
        "    points_range = []\n",
        "\n",
        "    for j in range(len(centroids)):\n",
        "      points_range.append(dist(points[i], centroids[j]))\n",
        "\n",
        "    index = points_range.index(min(points_range))\n",
        "    clusters[index].append(points[i])\n",
        "\n",
        "  return clusters\n",
        "\n",
        "\n",
        "def centroids_update(centroids, clusters):\n",
        "    k = len(centroids)\n",
        "    for i in range(k):\n",
        "      centroids[i] = calculate_mean(clusters[i])\n",
        "    return centroids\n",
        "\n",
        "\n",
        "def draw(clusters):\n",
        "  # colors = ['hotpink', '#CBF5A0', '#FFF46B', '#FFF46B']\n",
        "  for i in range(len(clusters)):\n",
        "    x_coordinates = []\n",
        "    y_coordinates = []\n",
        "    for j in range(len(clusters[i])):\n",
        "      x_coordinates.append(clusters[i][j][0])\n",
        "      y_coordinates.append(clusters[i][j][1])\n",
        "    plt.scatter(x_coordinates, y_coordinates)\n",
        "  plt.show()\n",
        "\n",
        "def is_equals(centroids, privious_centroids):\n",
        "  return (centroids == privious_centroids).all()   \n"
      ],
      "metadata": {
        "id": "La0B1cIkdNZC"
      },
      "execution_count": 102,
      "outputs": []
    },
    {
      "cell_type": "code",
      "source": [
        "if __name__ == '__main__':\n",
        "  n = 100;\n",
        "  k = 3\n",
        "\n",
        "  points = random_points(n)\n",
        "  centroids = init_center(points, k)\n",
        "  clusters = calculate_nearest_centroid(points, centroids)\n",
        "\n",
        "  privious_centroids = copy.deepcopy(centroids)\n",
        "\n",
        "  while not is_equals(centroids, privious_centroids):\n",
        "    centroids = centroids_update(centroids, clusters)\n",
        "    clusters = calculate_nearest_centroid(points, centroids)\n",
        "\n",
        "    privious_centroids = copy.deepcopy(centroids) \n",
        "  \n",
        "  draw(clusters)\n"
      ],
      "metadata": {
        "colab": {
          "base_uri": "https://localhost:8080/",
          "height": 265
        },
        "id": "VwTrZ1mneCgA",
        "outputId": "5ba296f9-3581-474c-b78f-dd331e0d4d37"
      },
      "execution_count": 101,
      "outputs": [
        {
          "output_type": "display_data",
          "data": {
            "text/plain": [
              "<Figure size 432x288 with 1 Axes>"
            ],
            "image/png": "[encoded data removed]"
          },
          "metadata": {
            "needs_background": "light"
          }
        }
      ]
    }
  ]
}